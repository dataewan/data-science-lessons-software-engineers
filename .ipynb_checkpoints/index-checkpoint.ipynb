{
 "cells": [
  {
   "cell_type": "markdown",
   "metadata": {
    "slideshow": {
     "slide_type": "slide"
    }
   },
   "source": [
    "# What can data scientists learn from engineers?\n",
    "\n",
    "### Things that I am still shitty at\n",
    "\n",
    "Ewan Nicolson\n"
   ]
  },
  {
   "cell_type": "markdown",
   "metadata": {
    "slideshow": {
     "slide_type": "slide"
    }
   },
   "source": [
    "# Why?\n",
    "\n",
    " - Liberation from having to get someone else to do things for me\n",
    " - More responsibly hand things over\n",
    " - Working better in a team\n",
    " - Life is easier in the long term\n",
    " - Mastery"
   ]
  },
  {
   "cell_type": "markdown",
   "metadata": {
    "slideshow": {
     "slide_type": "slide"
    }
   },
   "source": [
    "## Testing\n",
    "\n",
    "testing took me the longest time\n",
    "\n",
    "what if a process is random. what if i need to write a programme to figure out what the right answer is\n",
    "\n",
    "simple example data\n",
    "\n",
    "mocking anything that has already been tested\n",
    "\n",
    "\n",
    "https://testingpodcast.com/33-katharine-jarmul-testing-in-data-science/"
   ]
  },
  {
   "cell_type": "markdown",
   "metadata": {
    "slideshow": {
     "slide_type": "slide"
    }
   },
   "source": [
    "## AWS"
   ]
  },
  {
   "cell_type": "markdown",
   "metadata": {
    "slideshow": {
     "slide_type": "slide"
    }
   },
   "source": [
    "## data engineering\n",
    "\n",
    "https://medium.com/@rchang/a-beginners-guide-to-data-engineering-part-i-4227c5c457d7\n",
    "\n",
    "\n",
    "https://medium.com/@maximebeauchemin/the-downfall-of-the-data-engineer-5bfb701e5d6b"
   ]
  },
  {
   "cell_type": "markdown",
   "metadata": {
    "slideshow": {
     "slide_type": "slide"
    }
   },
   "source": [
    "## Deployment\n",
    "\n",
    "\n",
    "\n",
    "concept drift\n",
    "\n",
    "retraining models shouldn't be difficult. this should be a low cost operation\n",
    "\n",
    "taking idea from continous deployment/delivery\n",
    "\n",
    "whole pipeline should repeat\n",
    "\n",
    "danny logging metrics like F1, precision/recall score to grafana\n",
    "\n",
    "Ravelin showing that they do things like log the most important features.\n",
    "\n",
    "Automate deployment"
   ]
  },
  {
   "cell_type": "markdown",
   "metadata": {
    "slideshow": {
     "slide_type": "slide"
    }
   },
   "source": [
    "## Microservices\n",
    "\n",
    "Like lego\n",
    "\n",
    "Each thing should do one thing and do it well\n",
    "\n",
    "Again from Ravelin, ensembling these together to make a meta prediction"
   ]
  },
  {
   "cell_type": "markdown",
   "metadata": {
    "slideshow": {
     "slide_type": "slide"
    }
   },
   "source": [
    "## All the experience\n",
    "\n",
    "\n",
    "Pragmatic programmer\n",
    "\n",
    "[code smells](https://blog.codinghorror.com/code-smells/). keeping code modular\n",
    "\n",
    "Get away from notebooks"
   ]
  },
  {
   "cell_type": "markdown",
   "metadata": {
    "slideshow": {
     "slide_type": "slide"
    }
   },
   "source": [
    "## Don't have time for\n",
    "\n",
    "\n",
    "Version control\n",
    "\n",
    "Debugger"
   ]
  },
  {
   "cell_type": "markdown",
   "metadata": {
    "slideshow": {
     "slide_type": "slide"
    }
   },
   "source": [
    "## Agile\n",
    "\n",
    "I thought that this was just systemised meetings.\n"
   ]
  },
  {
   "cell_type": "markdown",
   "metadata": {
    "slideshow": {
     "slide_type": "slide"
    }
   },
   "source": [
    "## Code review\n",
    "\n",
    "This is brilliant.\n",
    "Like peer review in science.\n",
    "\n",
    "Agree the rules beforehand.\n"
   ]
  },
  {
   "cell_type": "markdown",
   "metadata": {
    "slideshow": {
     "slide_type": "slide"
    }
   },
   "source": [
    "## Get better at python\n",
    "\n",
    "Python tips\n",
    "\n"
   ]
  },
  {
   "cell_type": "markdown",
   "metadata": {
    "slideshow": {
     "slide_type": "slide"
    }
   },
   "source": [
    "## What can engineers learn from data scientists?\n",
    "\n",
    "Data awareness\n",
    "\n",
    "Giving it a bash\n",
    "\n"
   ]
  },
  {
   "cell_type": "code",
   "execution_count": null,
   "metadata": {},
   "outputs": [],
   "source": []
  }
 ],
 "metadata": {
  "celltoolbar": "Slideshow",
  "kernelspec": {
   "display_name": "Python 3",
   "language": "python",
   "name": "python3"
  },
  "language_info": {
   "codemirror_mode": {
    "name": "ipython",
    "version": 3
   },
   "file_extension": ".py",
   "mimetype": "text/x-python",
   "name": "python",
   "nbconvert_exporter": "python",
   "pygments_lexer": "ipython3",
   "version": "3.6.3"
  }
 },
 "nbformat": 4,
 "nbformat_minor": 2
}
