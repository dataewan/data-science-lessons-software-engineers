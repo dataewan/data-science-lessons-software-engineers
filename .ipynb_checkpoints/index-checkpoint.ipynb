{
 "cells": [
  {
   "cell_type": "markdown",
   "metadata": {
    "slideshow": {
     "slide_type": "slide"
    }
   },
   "source": [
    "# What can data scientists learn from engineers?\n",
    "\n",
    "### Or: _Things that I am still no good at_\n",
    "\n",
    "Ewan Nicolson\n"
   ]
  },
  {
   "cell_type": "markdown",
   "metadata": {
    "slideshow": {
     "slide_type": "slide"
    }
   },
   "source": [
    "# Why engineering skills?\n",
    "\n",
    " - Self-determination, more impact\n",
    " - Hand overs and teamwork\n",
    " - Long term payoff\n",
    " - Mastery\n",
    " - You may be smarter, and possibly less likely to embarass yourself"
   ]
  },
  {
   "cell_type": "markdown",
   "metadata": {
    "slideshow": {
     "slide_type": "slide"
    }
   },
   "source": [
    "\n",
    "![tweet from josh wills](tweet.png)\n",
    "\n",
    "https://twitter.com/josh_wills/status/198093512149958656?lang=en"
   ]
  },
  {
   "cell_type": "markdown",
   "metadata": {
    "slideshow": {
     "slide_type": "slide"
    }
   },
   "source": [
    "# In the order I was convinced of these values"
   ]
  },
  {
   "cell_type": "markdown",
   "metadata": {
    "slideshow": {
     "slide_type": "slide"
    }
   },
   "source": [
    "## Code review\n",
    "\n",
    "This is brilliant.\n",
    "Like peer review in science.\n",
    "\n",
    "Agree the rules beforehand. PEP-8.\n",
    "\n",
    "Peer review with both data scientists and engineers if you can.\n"
   ]
  },
  {
   "cell_type": "markdown",
   "metadata": {
    "slideshow": {
     "slide_type": "subslide"
    }
   },
   "source": [
    "\n",
    "https://www.python.org/dev/peps/pep-0008/\n",
    "\n",
    "http://flake8.pycqa.org/en/latest/\n",
    "\n",
    "https://www.youtube.com/watch?v=wf-BqAjZb8M&feature=youtu.be"
   ]
  },
  {
   "cell_type": "markdown",
   "metadata": {
    "slideshow": {
     "slide_type": "slide"
    }
   },
   "source": [
    "# Testing\n",
    "\n",
    "I was very reluctant about testing.\n",
    "\n",
    "> What if it is a process that is non-deterministic?\n",
    "\n",
    "and\n",
    "\n",
    "> What if it is complicated, and I need to make a programme to find the answer?\n",
    "\n",
    "Couple of gateways into testing:"
   ]
  },
  {
   "cell_type": "markdown",
   "metadata": {
    "slideshow": {
     "slide_type": "subslide"
    }
   },
   "source": [
    "## These are the same tests you do on paper\n",
    "\n",
    "Simple values\n",
    "\n"
   ]
  },
  {
   "cell_type": "code",
   "execution_count": 16,
   "metadata": {
    "slideshow": {
     "slide_type": "fragment"
    }
   },
   "outputs": [],
   "source": [
    "\n",
    "\n",
    "def f1score(y_true, y_pred):\n",
    "    \"\"\"F1 score is given by this formula.\n",
    "\n",
    "    F1 = 2 * (precision * recall) / (precision + recall)\n",
    "    \"\"\"\n",
    "    y_true = set(y_true)\n",
    "    y_pred = set(y_pred)\n",
    "\n",
    "    precision = sum([1 for i in y_pred if i in y_true]) / len(y_pred)\n",
    "    recall = sum([1 for i in y_true if i in y_pred]) / len(y_true)\n",
    "    \n",
    "    if precision + recall == 0:\n",
    "        return 0.0\n",
    "    else:\n",
    "        return (2 * precision * recall) / (precision + recall)"
   ]
  },
  {
   "cell_type": "code",
   "execution_count": 18,
   "metadata": {
    "slideshow": {
     "slide_type": "fragment"
    }
   },
   "outputs": [],
   "source": [
    "\n",
    "import pytest\n",
    "\n",
    "assert f1score(\n",
    "    [1, 2, 3], [2, 3]\n",
    ") == 0.8\n",
    "\n",
    "assert f1score(['None'], [2, 'None']) == pytest.approx(2/3)\n",
    "\n",
    "assert f1score([4, 5, 6, 7], [2, 4, 8, 9]) == 0.25\n",
    "\n",
    "assert f1score([1, 2, 3, 4], [1]) == 0.4"
   ]
  },
  {
   "cell_type": "markdown",
   "metadata": {
    "slideshow": {
     "slide_type": "subslide"
    }
   },
   "source": [
    "## Mock anything that has already been tested\n",
    "\n",
    "For example, don't unit test sklearn"
   ]
  },
  {
   "cell_type": "markdown",
   "metadata": {
    "slideshow": {
     "slide_type": "subslide"
    }
   },
   "source": [
    "\n",
    "https://testingpodcast.com/33-katharine-jarmul-testing-in-data-science/\n",
    "\n",
    "http://www.tdda.info/\n",
    "\n",
    "https://www.eecs.tufts.edu/~dsculley/papers/ml_test_score.pdf\n",
    "\n",
    "https://smile.amazon.co.uk/Testing-Python-Applying-Unit-Acceptance-ebook/dp/B00LJV2GXI/ref=sr_1_1?ie=UTF8&qid=1519759535&sr=8-1&keywords=testing+python+david+sale"
   ]
  },
  {
   "cell_type": "markdown",
   "metadata": {
    "slideshow": {
     "slide_type": "slide"
    }
   },
   "source": [
    "# Data engineering\n",
    "\n",
    "Best way to get high quality data\n",
    "\n",
    "Very underrated task. I used to complain about this not being right. **Invest** in this instead.\n"
   ]
  },
  {
   "cell_type": "markdown",
   "metadata": {
    "slideshow": {
     "slide_type": "subslide"
    }
   },
   "source": [
    "## Don't get put off by nomenclature\n",
    "\n",
    "Star, snowflake schemas. Normalised, denormalised.\n",
    "\n",
    "You have the knowledge to do this."
   ]
  },
  {
   "cell_type": "markdown",
   "metadata": {
    "slideshow": {
     "slide_type": "subslide"
    }
   },
   "source": [
    "## Understand how ETL works\n",
    "\n",
    "Productionise your tasks.\n",
    "\n",
    "It might be in python already"
   ]
  },
  {
   "cell_type": "markdown",
   "metadata": {
    "slideshow": {
     "slide_type": "subslide"
    }
   },
   "source": [
    "\n",
    "https://medium.com/@rchang/a-beginners-guide-to-data-engineering-part-i-4227c5c457d7\n",
    "\n",
    "\n",
    "https://medium.com/@maximebeauchemin/the-downfall-of-the-data-engineer-5bfb701e5d6b"
   ]
  },
  {
   "cell_type": "markdown",
   "metadata": {
    "slideshow": {
     "slide_type": "slide"
    }
   },
   "source": [
    "# AWS\n",
    "\n",
    "Have some knowledge of the AWS tools available to you.\n",
    "\n",
    "I'm sure the rest are very good too. I like bigquery."
   ]
  },
  {
   "cell_type": "markdown",
   "metadata": {
    "slideshow": {
     "slide_type": "subslide"
    }
   },
   "source": [
    "## Data in\n",
    "\n",
    "Kinesis (Kafka)\n",
    "\n",
    "Glue"
   ]
  },
  {
   "cell_type": "markdown",
   "metadata": {
    "slideshow": {
     "slide_type": "subslide"
    }
   },
   "source": [
    "## Data storage\n",
    "\n",
    "s3\n",
    "\n",
    "Parquet, Athena\n",
    "\n",
    "Redshift, RDS"
   ]
  },
  {
   "cell_type": "markdown",
   "metadata": {
    "slideshow": {
     "slide_type": "subslide"
    }
   },
   "source": [
    "## Data processing\n",
    "\n",
    "EC2, EMR\n",
    "\n",
    "Lambda\n",
    "\n",
    "Sagemaker"
   ]
  },
  {
   "cell_type": "markdown",
   "metadata": {
    "slideshow": {
     "slide_type": "subslide"
    }
   },
   "source": [
    "\n",
    "https://aws.amazon.com/big-data/"
   ]
  },
  {
   "cell_type": "markdown",
   "metadata": {
    "slideshow": {
     "slide_type": "slide"
    }
   },
   "source": [
    "## Deployment"
   ]
  },
  {
   "cell_type": "markdown",
   "metadata": {
    "slideshow": {
     "slide_type": "subslide"
    }
   },
   "source": [
    "![step1](./step1.png)\n",
    "\n",
    "_concept drift_"
   ]
  },
  {
   "cell_type": "markdown",
   "metadata": {
    "slideshow": {
     "slide_type": "subslide"
    }
   },
   "source": [
    "![step1](./step2.png)\n",
    "\n",
    "_concept drift_"
   ]
  },
  {
   "cell_type": "markdown",
   "metadata": {
    "slideshow": {
     "slide_type": "subslide"
    }
   },
   "source": [
    "![step1](./step3.png)\n",
    "\n",
    "_concept drift_"
   ]
  },
  {
   "cell_type": "markdown",
   "metadata": {
    "slideshow": {
     "slide_type": "subslide"
    }
   },
   "source": [
    "Retraining models shouldn't be difficult. This should be a low cost operation\n",
    "\n",
    "Retraining shouldn't break anything\n",
    "\n",
    "Stealing idea from continous deployment/delivery"
   ]
  },
  {
   "cell_type": "markdown",
   "metadata": {
    "slideshow": {
     "slide_type": "subslide"
    }
   },
   "source": [
    "## Repeatable, automated pipelines\n",
    "\n",
    "Whole pipeline should be repeatable\n",
    "\n",
    "Automate deployment, retraining, evaluation"
   ]
  },
  {
   "cell_type": "markdown",
   "metadata": {
    "slideshow": {
     "slide_type": "subslide"
    }
   },
   "source": [
    "## Logging performance\n",
    "\n",
    "\n",
    "![grafana dashboard](https://camo.githubusercontent.com/d010ea19c70677a0bfd8a64fc01d2b0948e1ffc1/687474703a2f2f646f63732e67726166616e612e6f72672f6173736574732f696d672f66656174757265732f64617368626f6172645f6578312e706e67)\n",
    "\n",
    "_developer dashboard_\n"
   ]
  },
  {
   "cell_type": "markdown",
   "metadata": {
    "slideshow": {
     "slide_type": "subslide"
    }
   },
   "source": [
    "These dashboards not just for developers!\n",
    "\n",
    "My colleague Danny logs model performance metrics like AUC or F1 to grafana\n",
    "\n",
    "Very good talk from [Ravelin](https://www.ravelin.com/) where they talk about logging things like relative importance of features to say if we can use retrained model."
   ]
  },
  {
   "cell_type": "markdown",
   "metadata": {
    "slideshow": {
     "slide_type": "slide"
    }
   },
   "source": [
    "## Microservices\n",
    "\n",
    "(I'm going to get this wrong)\n",
    "\n",
    "Each job is a container.\n",
    "\n",
    "Each container should do one thing and do it well. Connect together like Lego."
   ]
  },
  {
   "cell_type": "markdown",
   "metadata": {
    "slideshow": {
     "slide_type": "subslide"
    }
   },
   "source": [
    "Again from Ravelin, I love this idea.\n",
    "\n",
    "They have a library of model components.\n",
    "\n",
    "Ensemble them together to make classifiers.\n",
    "\n",
    "<img src=\"./library.svg\" alt='library' style='width: 500px'/>\n"
   ]
  },
  {
   "cell_type": "markdown",
   "metadata": {
    "slideshow": {
     "slide_type": "slide"
    }
   },
   "source": [
    "## All the experience\n",
    "\n",
    "Data science is very young field. We can learn from experienced programmers.\n",
    "\n",
    "Find an experienced programmer, see what they get grumpy about"
   ]
  },
  {
   "cell_type": "markdown",
   "metadata": {
    "slideshow": {
     "slide_type": "subslide"
    }
   },
   "source": [
    "## Code smells\n",
    "\n",
    "[code smells](https://blog.codinghorror.com/code-smells/)\n",
    "\n",
    "They've seen these before. These things have names!\n",
    "\n",
    " - Long Parameter List\n",
    " - Don't repeat yourself!\n",
    " - Conditional Complexity\n",
    " - Speculative Generality\n",
    " - Shotgun Surgery"
   ]
  },
  {
   "cell_type": "markdown",
   "metadata": {
    "slideshow": {
     "slide_type": "subslide"
    }
   },
   "source": [
    "## Getting away from notebooks\n",
    "\n",
    "Data scientists love notebooks (jupyter)\n",
    "\n",
    "A great experience is watching an engineer hate them\n",
    "\n",
    "An even better experience is watching an engineer say: _\"they are a great tool for collaboration and experimentation, but wouldn't use them for much else\"_\n",
    "\n"
   ]
  },
  {
   "cell_type": "markdown",
   "metadata": {
    "slideshow": {
     "slide_type": "subslide"
    }
   },
   "source": [
    "https://smile.amazon.co.uk/Pragmatic-Programmer-Andrew-Hunt/dp/020161622X/ref=sr_1_1?s=books&ie=UTF8&qid=1519841835&sr=1-1&keywords=pragmatic+programmer&dpID=41BKx1AxQWL&preST=_SX218_BO1,204,203,200_QL40_&dpSrc=srch\n",
    "\n",
    "\n",
    "https://github.com/braydie/HowToBeAProgrammer\n",
    "\n",
    "http://opiateforthemass.es/articles/why-i-dont-like-jupyter-fka-ipython-notebook/"
   ]
  },
  {
   "cell_type": "markdown",
   "metadata": {
    "slideshow": {
     "slide_type": "slide"
    }
   },
   "source": [
    "## Agile\n",
    "\n",
    "I thought that this was just systemised meetings.\n",
    "It is, but the meetings are useful.\n",
    "Don't sit there with your laptop, engage with them.\n",
    "If it genuinely isn't useful then bring it up in the retro.\n",
    "\n",
    "\n",
    "Make things smaller, be customer centric, iterate"
   ]
  },
  {
   "cell_type": "markdown",
   "metadata": {
    "slideshow": {
     "slide_type": "slide"
    }
   },
   "source": [
    "## What can engineers learn from data scientists?\n",
    "\n",
    "Data awareness\n",
    "\n",
    "Dealing with uncertainty\n",
    "\n",
    "Knowing about the domain applications of our work\n",
    "\n",
    "If a data scientist who knows engineering is awesome, then an engineer who knows data science is too"
   ]
  },
  {
   "cell_type": "code",
   "execution_count": 2,
   "metadata": {
    "slideshow": {
     "slide_type": "slide"
    }
   },
   "outputs": [
    {
     "name": "stdout",
     "output_type": "stream",
     "text": [
      "Many thanks\n"
     ]
    }
   ],
   "source": [
    "print(\"Many thanks\")"
   ]
  },
  {
   "cell_type": "markdown",
   "metadata": {
    "slideshow": {
     "slide_type": "slide"
    }
   },
   "source": [
    "## Don't have time for, but two very good things\n",
    "\n",
    "\n",
    "Version control\n",
    "\n",
    "Debugger"
   ]
  },
  {
   "cell_type": "markdown",
   "metadata": {
    "slideshow": {
     "slide_type": "slide"
    }
   },
   "source": [
    "## Get better at Python\n",
    "\n",
    "Two of my favourites\n",
    "\n",
    "[Python tips](https://smile.amazon.co.uk/Python-Tricks-Buffet-Awesome-Features-ebook/dp/B0785Q7GSY/ref=sr_1_1?ie=UTF8&qid=1519844374&sr=8-1&keywords=dan+bader)\n",
    "\n",
    "[Talk Python to me podcast](https://talkpython.fm/)\n",
    "\n"
   ]
  }
 ],
 "metadata": {
  "celltoolbar": "Slideshow",
  "kernelspec": {
   "display_name": "Python 3",
   "language": "python",
   "name": "python3"
  },
  "language_info": {
   "codemirror_mode": {
    "name": "ipython",
    "version": 3
   },
   "file_extension": ".py",
   "mimetype": "text/x-python",
   "name": "python",
   "nbconvert_exporter": "python",
   "pygments_lexer": "ipython3",
   "version": "3.6.3"
  }
 },
 "nbformat": 4,
 "nbformat_minor": 2
}
