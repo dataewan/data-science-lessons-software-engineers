{
 "cells": [
  {
   "cell_type": "markdown",
   "metadata": {
    "slideshow": {
     "slide_type": "slide"
    }
   },
   "source": [
    "# What can data scientists learn from engineers?\n",
    "\n",
    "### Things that I am still no good at\n",
    "\n",
    "Ewan Nicolson\n"
   ]
  },
  {
   "cell_type": "markdown",
   "metadata": {
    "slideshow": {
     "slide_type": "slide"
    }
   },
   "source": [
    "# Why engineering skills?\n",
    "\n",
    " - Self-determination, more impact\n",
    " - Hand overs and teamwork\n",
    " - Long term payoff\n",
    " - Mastery\n",
    " - You may be smarter, and possibly less likely to embarass yourself"
   ]
  },
  {
   "cell_type": "markdown",
   "metadata": {
    "slideshow": {
     "slide_type": "slide"
    }
   },
   "source": [
    "\n",
    "![tweet from josh wills](tweet.png)\n",
    "\n",
    "https://twitter.com/josh_wills/status/198093512149958656?lang=en"
   ]
  },
  {
   "cell_type": "markdown",
   "metadata": {
    "slideshow": {
     "slide_type": "slide"
    }
   },
   "source": [
    "# In the rough order I came around to these ideas"
   ]
  },
  {
   "cell_type": "markdown",
   "metadata": {
    "slideshow": {
     "slide_type": "slide"
    }
   },
   "source": [
    "## Code review\n",
    "\n",
    "This is brilliant.\n",
    "Like peer review in science.\n",
    "\n",
    "Agree the rules beforehand. PEP-8.\n",
    "\n",
    "Peer review with both data scientists and engineers if you can.\n",
    "\n",
    "https://www.python.org/dev/peps/pep-0008/\n",
    "\n",
    "http://flake8.pycqa.org/en/latest/\n",
    "\n",
    "https://www.youtube.com/watch?v=wf-BqAjZb8M&feature=youtu.be"
   ]
  },
  {
   "cell_type": "markdown",
   "metadata": {
    "slideshow": {
     "slide_type": "slide"
    }
   },
   "source": [
    "# Testing\n",
    "\n",
    "I was very reluctant about testing.\n",
    "\n",
    "> What if it is a process that is non-deterministic?\n",
    "\n",
    "> What if I need to make a programme to find out the answer?\n",
    "\n",
    "\n",
    "simple example data that you can work out. feature engineering or scoring is an excellent place for this sort of work.\n",
    "\n",
    "mocking anything that has already been tested\n",
    "\n",
    "\n",
    "https://testingpodcast.com/33-katharine-jarmul-testing-in-data-science/\n",
    "\n",
    "http://www.tdda.info/\n",
    "\n",
    "https://smile.amazon.co.uk/Testing-Python-Applying-Unit-Acceptance-ebook/dp/B00LJV2GXI/ref=sr_1_1?ie=UTF8&qid=1519759535&sr=8-1&keywords=testing+python+david+sale"
   ]
  },
  {
   "cell_type": "markdown",
   "metadata": {
    "slideshow": {
     "slide_type": "subslide"
    }
   },
   "source": [
    "## Only need to test your logic\n",
    "\n"
   ]
  },
  {
   "cell_type": "code",
   "execution_count": 16,
   "metadata": {
    "slideshow": {
     "slide_type": "fragment"
    }
   },
   "outputs": [],
   "source": [
    "\n",
    "\n",
    "def f1score(y_true, y_pred):\n",
    "    \"\"\"F1 score is given by this formula.\n",
    "\n",
    "    F1 = 2 * (precision * recall) / (precision + recall)\n",
    "    \"\"\"\n",
    "    y_true = set(y_true)\n",
    "    y_pred = set(y_pred)\n",
    "\n",
    "    precision = sum([1 for i in y_pred if i in y_true]) / len(y_pred)\n",
    "    recall = sum([1 for i in y_true if i in y_pred]) / len(y_true)\n",
    "    \n",
    "    if precision + recall == 0:\n",
    "        return 0.0\n",
    "    else:\n",
    "        return (2 * precision * recall) / (precision + recall)"
   ]
  },
  {
   "cell_type": "code",
   "execution_count": 18,
   "metadata": {
    "slideshow": {
     "slide_type": "fragment"
    }
   },
   "outputs": [],
   "source": [
    "\n",
    "import pytest\n",
    "\n",
    "assert f1score(\n",
    "    [1, 2, 3], [2, 3]\n",
    ") == 0.8\n",
    "\n",
    "assert f1score(['None'], [2, 'None']) == pytest.approx(2/3)\n",
    "\n",
    "assert f1score([4, 5, 6, 7], [2, 4, 8, 9]) == 0.25\n",
    "\n",
    "assert f1score([1, 2, 3, 4], [1]) == 0.4"
   ]
  },
  {
   "cell_type": "markdown",
   "metadata": {
    "slideshow": {
     "slide_type": "subslide"
    }
   },
   "source": [
    "## Mock anything that has already been tested"
   ]
  },
  {
   "cell_type": "markdown",
   "metadata": {
    "slideshow": {
     "slide_type": "slide"
    }
   },
   "source": [
    "# Data engineering\n",
    "\n",
    "Best way to get high quality data\n",
    "\n",
    "Very underrated task. I used to complain about this not being right. **Invest** in this instead.\n"
   ]
  },
  {
   "cell_type": "markdown",
   "metadata": {
    "slideshow": {
     "slide_type": "subslide"
    }
   },
   "source": [
    "## Don't get put off by language\n",
    "\n",
    "Star, snowflake schemas. Normalised, denormalised.\n",
    "\n",
    "You have the knowledge to do this."
   ]
  },
  {
   "cell_type": "markdown",
   "metadata": {
    "slideshow": {
     "slide_type": "subslide"
    }
   },
   "source": [
    "## Understand how ETL works\n",
    "\n",
    "Productionise your tasks.\n",
    "\n",
    "It might be in python already."
   ]
  },
  {
   "cell_type": "markdown",
   "metadata": {
    "slideshow": {
     "slide_type": "subslide"
    }
   },
   "source": [
    "\n",
    "https://medium.com/@rchang/a-beginners-guide-to-data-engineering-part-i-4227c5c457d7\n",
    "\n",
    "\n",
    "https://medium.com/@maximebeauchemin/the-downfall-of-the-data-engineer-5bfb701e5d6b"
   ]
  },
  {
   "cell_type": "markdown",
   "metadata": {
    "slideshow": {
     "slide_type": "slide"
    }
   },
   "source": [
    "# AWS\n",
    "\n",
    "Have some knowledge of the AWS tools available to you.\n",
    "\n",
    "I'm sure the rest are very good too. I like bigquery."
   ]
  },
  {
   "cell_type": "markdown",
   "metadata": {
    "slideshow": {
     "slide_type": "subslide"
    }
   },
   "source": [
    "## Data in\n",
    "\n",
    "Kinesis (Kafka)\n",
    "\n",
    "Glue"
   ]
  },
  {
   "cell_type": "markdown",
   "metadata": {
    "slideshow": {
     "slide_type": "subslide"
    }
   },
   "source": [
    "## Data storage\n",
    "\n",
    "s3\n",
    "\n",
    "Parquet, athena\n",
    "\n",
    "Redshift, RDS"
   ]
  },
  {
   "cell_type": "markdown",
   "metadata": {
    "slideshow": {
     "slide_type": "subslide"
    }
   },
   "source": [
    "## Data processing\n",
    "\n",
    "EC2, EMR\n",
    "\n",
    "Lambda\n",
    "\n",
    "Sagemaker"
   ]
  },
  {
   "cell_type": "markdown",
   "metadata": {
    "slideshow": {
     "slide_type": "subslide"
    }
   },
   "source": [
    "\n",
    "https://aws.amazon.com/big-data/"
   ]
  },
  {
   "cell_type": "markdown",
   "metadata": {
    "slideshow": {
     "slide_type": "slide"
    }
   },
   "source": [
    "## Deployment\n",
    "\n",
    "\n",
    "\n",
    "concept drift"
   ]
  },
  {
   "cell_type": "markdown",
   "metadata": {
    "slideshow": {
     "slide_type": "fragment"
    }
   },
   "source": [
    "retraining models shouldn't be difficult. this should be a low cost operation\n",
    "\n",
    "shouldn't break things\n",
    "\n",
    "taking idea from continous deployment/delivery"
   ]
  },
  {
   "cell_type": "markdown",
   "metadata": {
    "slideshow": {
     "slide_type": "fragment"
    }
   },
   "source": [
    "whole pipeline should repeat\n",
    "\n",
    "Automate deployment"
   ]
  },
  {
   "cell_type": "markdown",
   "metadata": {
    "slideshow": {
     "slide_type": "fragment"
    }
   },
   "source": [
    "danny logging metrics like F1, precision/recall score to grafana\n",
    "\n",
    "Ravelin showing that they do things like log the most important features.\n",
    "\n"
   ]
  },
  {
   "cell_type": "markdown",
   "metadata": {
    "slideshow": {
     "slide_type": "slide"
    }
   },
   "source": [
    "## Microservices\n",
    "\n",
    "Like lego\n",
    "\n",
    "Each thing should do one thing and do it well\n",
    "\n",
    "Again from Ravelin, ensembling these together to make a meta prediction"
   ]
  },
  {
   "cell_type": "markdown",
   "metadata": {
    "slideshow": {
     "slide_type": "slide"
    }
   },
   "source": [
    "## All the experience\n",
    "\n",
    "\n",
    "Pragmatic programmer, Clean Code\n",
    "\n",
    "[code smells](https://blog.codinghorror.com/code-smells/). keeping code modular\n",
    "\n",
    "https://github.com/braydie/HowToBeAProgrammer\n",
    "\n",
    "Get away from notebooks"
   ]
  },
  {
   "cell_type": "markdown",
   "metadata": {
    "slideshow": {
     "slide_type": "slide"
    }
   },
   "source": [
    "## Agile\n",
    "\n",
    "I thought that this was just systemised meetings.\n",
    "It is, but the meetings are useful.\n",
    "Don't sit there with your laptop, engage with them.\n",
    "If it genuinely isn't useful then bring it up in the retro.\n",
    "\n",
    "\n",
    "Make things smaller, be customer centric, iterate"
   ]
  },
  {
   "cell_type": "markdown",
   "metadata": {
    "slideshow": {
     "slide_type": "slide"
    }
   },
   "source": [
    "## What can engineers learn from data scientists?\n",
    "\n",
    "Data awareness\n",
    "\n",
    "Giving it a bash\n",
    "\n",
    "Knowing about the domain applications of what we're doing\n",
    "\n",
    "If a data scientist who knows engineering is awesome, then an engineer who knows data science is too"
   ]
  },
  {
   "cell_type": "code",
   "execution_count": 2,
   "metadata": {
    "slideshow": {
     "slide_type": "slide"
    }
   },
   "outputs": [
    {
     "name": "stdout",
     "output_type": "stream",
     "text": [
      "Many thanks\n"
     ]
    }
   ],
   "source": [
    "print(\"Many thanks\")"
   ]
  },
  {
   "cell_type": "markdown",
   "metadata": {
    "slideshow": {
     "slide_type": "slide"
    }
   },
   "source": [
    "## Don't have time for\n",
    "\n",
    "\n",
    "Version control\n",
    "\n",
    "Debugger"
   ]
  },
  {
   "cell_type": "markdown",
   "metadata": {
    "slideshow": {
     "slide_type": "slide"
    }
   },
   "source": [
    "## Get better at python\n",
    "\n",
    "Python tips\n",
    "\n",
    "Talk Python to me\n",
    "\n"
   ]
  }
 ],
 "metadata": {
  "celltoolbar": "Slideshow",
  "kernelspec": {
   "display_name": "Python 3",
   "language": "python",
   "name": "python3"
  },
  "language_info": {
   "codemirror_mode": {
    "name": "ipython",
    "version": 3
   },
   "file_extension": ".py",
   "mimetype": "text/x-python",
   "name": "python",
   "nbconvert_exporter": "python",
   "pygments_lexer": "ipython3",
   "version": "3.6.3"
  }
 },
 "nbformat": 4,
 "nbformat_minor": 2
}
